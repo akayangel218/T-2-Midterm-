{
 "cells": [
  {
   "cell_type": "code",
   "execution_count": 1,
   "id": "f508fcd1",
   "metadata": {},
   "outputs": [
    {
     "name": "stderr",
     "output_type": "stream",
     "text": [
      "C:\\Users\\Narwh\\AppData\\Local\\Temp\\ipykernel_6620\\1809671178.py:8: DeprecationWarning: Please use `maximum_filter` from the `scipy.ndimage` namespace, the `scipy.ndimage.filters` namespace is deprecated.\n",
      "  from scipy.ndimage.filters import maximum_filter\n",
      "C:\\Users\\Narwh\\AppData\\Local\\Temp\\ipykernel_6620\\1809671178.py:9: DeprecationWarning: Please use `generate_binary_structure` from the `scipy.ndimage` namespace, the `scipy.ndimage.morphology` namespace is deprecated.\n",
      "  from scipy.ndimage.morphology import (generate_binary_structure,\n",
      "C:\\Users\\Narwh\\AppData\\Local\\Temp\\ipykernel_6620\\1809671178.py:9: DeprecationWarning: Please use `binary_erosion` from the `scipy.ndimage` namespace, the `scipy.ndimage.morphology` namespace is deprecated.\n",
      "  from scipy.ndimage.morphology import (generate_binary_structure,\n",
      "C:\\Users\\Narwh\\AppData\\Local\\Temp\\ipykernel_6620\\1809671178.py:11: DeprecationWarning: Please use `iterate_structure` from the `scipy.ndimage` namespace, the `scipy.ndimage.morphology` namespace is deprecated.\n",
      "  from scipy.ndimage.morphology import iterate_structure\n"
     ]
    }
   ],
   "source": [
    "import librosa\n",
    "import librosa.display\n",
    "import numpy as np\n",
    "import matplotlib.pyplot as plt\n",
    "import matplotlib.mlab as mlab\n",
    "import IPython.display as ipd\n",
    "\n",
    "from scipy.ndimage.filters import maximum_filter\n",
    "from scipy.ndimage.morphology import (generate_binary_structure,\n",
    "                                      binary_erosion)\n",
    "from scipy.ndimage.morphology import iterate_structure\n",
    "\n",
    "\n",
    "sampling_rate = 22050"
   ]
  },
  {
   "cell_type": "code",
   "execution_count": null,
   "id": "95f99865",
   "metadata": {},
   "outputs": [],
   "source": [
    "pathAudio = \"AudioTest/\"\n",
    "files = librosa.util.find_files(pathAudio, ext=['wav']) \n",
    "files = np.asarray(files)\n",
    "for x in files:\n",
    "     data, sr = librosa.load(x)\n",
    "     librosa.display.waveshow(data, sr=sr)"
   ]
  }
 ],
 "metadata": {
  "kernelspec": {
   "display_name": "Python 3 (ipykernel)",
   "language": "python",
   "name": "python3"
  },
  "language_info": {
   "codemirror_mode": {
    "name": "ipython",
    "version": 3
   },
   "file_extension": ".py",
   "mimetype": "text/x-python",
   "name": "python",
   "nbconvert_exporter": "python",
   "pygments_lexer": "ipython3",
   "version": "3.10.4"
  }
 },
 "nbformat": 4,
 "nbformat_minor": 5
}
